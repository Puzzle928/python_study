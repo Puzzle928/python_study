{
 "cells": [
  {
   "cell_type": "markdown",
   "metadata": {
    "id": "niLpGsx9R06B"
   },
   "source": [
    "<!--NAVIGATION-->\n",
    "\n",
    "\n",
    "[[step01. 기본 연산 학습 page로 이동](step01Calculation.ipynb) ]   |   [[step03_1. 데이터 타입 학습 page로 이동](step03_1DataType.ipynb) ]"
   ]
  },
  {
   "cell_type": "markdown",
   "metadata": {
    "id": "bwhZBiyRR06H"
   },
   "source": [
    "## 조건문 & 반복문을 이용한 프로그램 응용력 향상하기\n",
    "\n",
    "1. 연산자\n",
    "> 1. = 오른쪽의 데이터를 왼쪽에 대입(할당) 연산자\n",
    "> 2. == : 동등비교 연산자\n",
    "> 3. != : 부정 연산자\n",
    "\n",
    "2. 조건식\n",
    "> 1. pass : 아무것도 실행하지 않음, 단순히 실행할 코드가 없다는 의미\n",
    "> 2. continue : 해당 로직을 제외하고 다음 loop 실행하란 의미\n",
    "\n",
    "3. 반복문 : 동일한 명령문을 여러번 실행\n",
    "> 1. for : 정해진 횟수만큼  반복하는 구조<br>\n",
    "> 2. while : 어떤 조건이 만족되는 동안, 반복을 계속하는 구조"
   ]
  },
  {
   "cell_type": "markdown",
   "metadata": {
    "id": "GlC7O01Pskst"
   },
   "source": [
    "4. 키워드\n",
    "> 1. def - 사용자 정의 함수를 만들겠다는 선언구 \n",
    "> 2. return - 함수 내부에서 해당 함수를 호출한 곳으로 값을 돌려주는 키워드\n",
    "> 3. if / elif / else - 조건식 표현\n",
    "> 4. True / False - boolean 표현"
   ]
  },
  {
   "cell_type": "code",
   "execution_count": null,
   "metadata": {},
   "outputs": [],
   "source": [
    "5. IT 언어 표현\n",
    "\n",
    ">1. 함수 실행시 새로운 데이터를 () 표기로 선언된 변수로 받음\n",
    ">2. def 함수명(변수선언):\n",
    ">3. 변수선언 자체를 parameter 또는 argument또는 인자 또는 매개인자"
   ]
  },
  {
   "cell_type": "code",
   "execution_count": null,
   "metadata": {
    "colab": {
     "base_uri": "https://localhost:8080/",
     "height": 107
    },
    "executionInfo": {
     "elapsed": 1988,
     "status": "ok",
     "timestamp": 1620870737358,
     "user": {
      "displayName": "강정현",
      "photoUrl": "",
      "userId": "18281289507624592209"
     },
     "user_tz": -540
    },
    "id": "bSFXEulAR06K",
    "outputId": "c2e03d60-66e7-4c72-cfa5-a374995bf9c9"
   },
   "outputs": [],
   "source": [
    "'''#블록주석\n",
    "조건문\n",
    "1. 조건이 true인 경우에만 실행\n",
    "\n",
    "2. 조건이 true인 경우와 false 경우 실행되는 로직이 명확히 구분되어야 할 상황\n",
    "\n",
    "3. 조건이 여러개인 경우의 상황\n",
    "\n",
    "ㅡㅡㅡ\n",
    "1. 로그인 인증\n",
    "   id/pw 둘다 인증이 되어야하는 상황\n",
    "   경우의 수 1.-id와 pw는 비교시 id도 true 그리고 pw도 true   o\n",
    "   경우의 수 2 - id는 true 또는 pw는 true   (둘중 하나만 맞기떄문에 x)    x\n",
    "   경우의 수 3 - id는 true 그리고 pw는 false    x\n",
    "   경우의 수 4 - id는 false 그리고 pw는 true    x\n",
    "   경우의 수 5 - id는 false 그리고 pw는 false   x\n",
    "\n",
    "  경우의 수 1\n",
    "   만약에 id가 true라면      if id= true:\n",
    "      pw가 true인지 비교        pw==ture\n",
    "\n",
    "  경우의 수2\n",
    "  만약게 id가 true라면      if id= true and pw == True\n",
    "      pw가 true인지 비교\n",
    "  경우의 수 3\n",
    "  만약에 id가 true 또는 pw가 true인지 비교\n",
    "   if id == True 개별문장\n",
    "   if pw == True 개별문장\n",
    "  \n",
    "\n",
    "2. 의사 코드\n",
    "   말로 하는 코딩\n",
    "   말로 하는 로직의 흐름을 서술하는 형식 의사 코드\n",
    "   문법은 고려하지 않음 표현\n",
    "'''"
   ]
  },
  {
   "cell_type": "code",
   "execution_count": null,
   "metadata": {
    "colab": {
     "base_uri": "https://localhost:8080/"
    },
    "executionInfo": {
     "elapsed": 503,
     "status": "ok",
     "timestamp": 1620870770610,
     "user": {
      "displayName": "강정현",
      "photoUrl": "",
      "userId": "18281289507624592209"
     },
     "user_tz": -540
    },
    "id": "yLktekcYbITN",
    "outputId": "4c248a5f-7c69-4f2f-9b74-9b9d9f20efdd"
   },
   "outputs": [],
   "source": [
    "# True인 경우만 고려하는 단일 조건식\n",
    "if True:\n",
    "  print(\"Ture인 경우만 실행\")"
   ]
  },
  {
   "cell_type": "code",
   "execution_count": null,
   "metadata": {
    "colab": {
     "base_uri": "https://localhost:8080/"
    },
    "executionInfo": {
     "elapsed": 482,
     "status": "ok",
     "timestamp": 1620870824300,
     "user": {
      "displayName": "강정현",
      "photoUrl": "",
      "userId": "18281289507624592209"
     },
     "user_tz": -540
    },
    "id": "BTSnKu9MbS19",
    "outputId": "9f409271-6941-49c2-d2d6-3cd8caf8b0f7"
   },
   "outputs": [],
   "source": [
    "if 'a' == 'a':\n",
    "  print(\"Ture인 경우만 실행\")"
   ]
  },
  {
   "cell_type": "code",
   "execution_count": null,
   "metadata": {
    "executionInfo": {
     "elapsed": 589,
     "status": "ok",
     "timestamp": 1620870848301,
     "user": {
      "displayName": "강정현",
      "photoUrl": "",
      "userId": "18281289507624592209"
     },
     "user_tz": -540
    },
    "id": "q2CMioQGbf8w"
   },
   "outputs": [],
   "source": [
    "if 'a' != 'a':\n",
    "  print(\"Ture인 경우만 실행\")"
   ]
  },
  {
   "cell_type": "code",
   "execution_count": null,
   "metadata": {
    "colab": {
     "base_uri": "https://localhost:8080/"
    },
    "executionInfo": {
     "elapsed": 458,
     "status": "ok",
     "timestamp": 1620870982926,
     "user": {
      "displayName": "강정현",
      "photoUrl": "",
      "userId": "18281289507624592209"
     },
     "user_tz": -540
    },
    "id": "0mBLKCEgblIl",
    "outputId": "3c3c112f-34c2-45b3-935e-cc62e8a9a6c5"
   },
   "outputs": [],
   "source": [
    "# True인 경우와 false 경우를 고려하는 조건식\n",
    "# if else 조건식\n",
    "# : 콜론이라 읽음  ,콤마  ; 세미콜론\n",
    "if 'a' != 'a':\n",
    "  print(\"Ture인 경우만 실행\")\n",
    "else:\n",
    "  print('조건식이 False인 경우만 실행')"
   ]
  },
  {
   "cell_type": "code",
   "execution_count": null,
   "metadata": {
    "colab": {
     "base_uri": "https://localhost:8080/"
    },
    "executionInfo": {
     "elapsed": 534,
     "status": "ok",
     "timestamp": 1620871801917,
     "user": {
      "displayName": "강정현",
      "photoUrl": "",
      "userId": "18281289507624592209"
     },
     "user_tz": -540
    },
    "id": "ao_5CHRQcGrl",
    "outputId": "6fb608d6-f0da-4f1d-b2b6-8f948003777b"
   },
   "outputs": [],
   "source": [
    "# 다중 조건식\n",
    "# if / elif /else\n",
    "a = 15\n",
    "\n",
    "if a < 5 :\n",
    "  print(\"5보다 작다\")\n",
    "elif a <= 10 :\n",
    "  print(\"5보다 작거나 같다\")\n",
    "else:\n",
    "  print(\"이도저도 아니더라\")"
   ]
  },
  {
   "cell_type": "code",
   "execution_count": null,
   "metadata": {
    "colab": {
     "base_uri": "https://localhost:8080/"
    },
    "executionInfo": {
     "elapsed": 676,
     "status": "ok",
     "timestamp": 1620872087238,
     "user": {
      "displayName": "강정현",
      "photoUrl": "",
      "userId": "18281289507624592209"
     },
     "user_tz": -540
    },
    "id": "ebZLvxgjfW39",
    "outputId": "0e746668-279b-4371-9625-870296b60fb7"
   },
   "outputs": [],
   "source": [
    "# python 에서 기능을 재사용 할수 있게 구현하는 함수 개발\n",
    "# def 함수명([new데이터 받을수 있는 문법 공간]):\n",
    "#     함수 로직\n",
    "#      [결과값 반환 로직]\n",
    "\n",
    "def my_fun(a):\n",
    "  if a < 5 :\n",
    "    print(\"5보다 작다\")\n",
    "  elif a <= 10 :\n",
    "    print(\"5보다 작거나 같다\")\n",
    "  else:\n",
    "    print(\"이도저도 아니더라\")\n",
    "my_fun(10)"
   ]
  },
  {
   "cell_type": "code",
   "execution_count": null,
   "metadata": {
    "colab": {
     "base_uri": "https://localhost:8080/"
    },
    "executionInfo": {
     "elapsed": 521,
     "status": "ok",
     "timestamp": 1620873137534,
     "user": {
      "displayName": "강정현",
      "photoUrl": "",
      "userId": "18281289507624592209"
     },
     "user_tz": -540
    },
    "id": "duQsqbcAgUPR",
    "outputId": "251ff07a-e36d-43aa-a54d-3c6ccfc1ed99"
   },
   "outputs": [],
   "source": [
    "my_fun(3)"
   ]
  },
  {
   "cell_type": "code",
   "execution_count": null,
   "metadata": {
    "executionInfo": {
     "elapsed": 558,
     "status": "ok",
     "timestamp": 1620873699305,
     "user": {
      "displayName": "강정현",
      "photoUrl": "",
      "userId": "18281289507624592209"
     },
     "user_tz": -540
    },
    "id": "0UbSP0vrkUsd"
   },
   "outputs": [],
   "source": [
    "# ??? 실시간 입력되는 데이터는 문자열, playdadt 라는 문자열에 한해서만 encore가 출력되게 만들기\n",
    "\n",
    "def edu_name(a):\n",
    "  if a == \"playdata\":\n",
    "    print(\"encore\")\n",
    "  else:\n",
    "    print(\"틀렸어\")\n"
   ]
  },
  {
   "cell_type": "code",
   "execution_count": null,
   "metadata": {
    "colab": {
     "base_uri": "https://localhost:8080/"
    },
    "executionInfo": {
     "elapsed": 575,
     "status": "ok",
     "timestamp": 1620873714253,
     "user": {
      "displayName": "강정현",
      "photoUrl": "",
      "userId": "18281289507624592209"
     },
     "user_tz": -540
    },
    "id": "jIOIVRnngLEe",
    "outputId": "37adea36-4fb1-4b2d-f519-754c221b5287"
   },
   "outputs": [],
   "source": [
    "edu_name('encore') # 틀렸어 출력"
   ]
  },
  {
   "cell_type": "code",
   "execution_count": null,
   "metadata": {
    "colab": {
     "base_uri": "https://localhost:8080/"
    },
    "executionInfo": {
     "elapsed": 482,
     "status": "ok",
     "timestamp": 1620873929653,
     "user": {
      "displayName": "강정현",
      "photoUrl": "",
      "userId": "18281289507624592209"
     },
     "user_tz": -540
    },
    "id": "7gWiX0dmktz8",
    "outputId": "d3debf14-21d6-4aa8-9ae2-2126e815c9cf"
   },
   "outputs": [],
   "source": [
    "edu_name('playdata') # encore 출력"
   ]
  },
  {
   "cell_type": "code",
   "execution_count": null,
   "metadata": {
    "executionInfo": {
     "elapsed": 692,
     "status": "ok",
     "timestamp": 1620873977767,
     "user": {
      "displayName": "강정현",
      "photoUrl": "",
      "userId": "18281289507624592209"
     },
     "user_tz": -540
    },
    "id": "wPCT6DNwnWFr"
   },
   "outputs": [],
   "source": [
    "def edu_name2(a):\n",
    "  if a == \"playdata\":\n",
    "    return  \"encore\"\n",
    "  else:\n",
    "    return  \"틀렸어\""
   ]
  },
  {
   "cell_type": "code",
   "execution_count": null,
   "metadata": {
    "colab": {
     "base_uri": "https://localhost:8080/"
    },
    "executionInfo": {
     "elapsed": 623,
     "status": "ok",
     "timestamp": 1620882773999,
     "user": {
      "displayName": "강정현",
      "photoUrl": "",
      "userId": "18281289507624592209"
     },
     "user_tz": -540
    },
    "id": "U_K70g3jnhy1",
    "outputId": "06455c74-de69-4756-c166-a38ad3d0cdaa"
   },
   "outputs": [],
   "source": [
    "# 함수 실행 결과값을 받아서 새로운 문자열 조합해서 출력\n",
    "# + 기호의 기능 두가지\n",
    "# + : 산술 연산의 더하기 / 데이터들의 결합\n",
    "\n",
    "# 결합 연산자\n",
    "print(\"반환된 결과값 \" + edu_name2('encore'))"
   ]
  },
  {
   "cell_type": "markdown",
   "metadata": {
    "id": "wKLZ0CkmoJqe"
   },
   "source": [
    "'''\n",
    "`:백틱 이라 읽음\n",
    "\n",
    "print(print(\"반환된 결과값 \" + edu_name2('encore'))\n",
    "1. print(): 콘솔창에 출력하는 기능의 내장 함수\n",
    "2. edu_name2() : python 사용하는 개발자를 [PYTHON 언어]\n",
    "사용자가 구현한 함수 (사용자 정의 함수)\n",
    "\n",
    "3. 실행 순서\n",
    " print() 호출(call) -> '반환된 결과값 ' 문자열이 메모리에 생성\n",
    " -> + 실행 시작 -> edu_name2('encore') 호출 시작-> encore 문자열 생성 -> 실행 edu_name2 실행 -> 결과값이 반환되어 옴 -> \n",
    " + 연산자가 결과값 결합 -> print() 실행 즉 출력 마무리\n",
    "'''"
   ]
  },
  {
   "cell_type": "code",
   "execution_count": null,
   "metadata": {
    "executionInfo": {
     "elapsed": 554,
     "status": "ok",
     "timestamp": 1620875146849,
     "user": {
      "displayName": "강정현",
      "photoUrl": "",
      "userId": "18281289507624592209"
     },
     "user_tz": -540
    },
    "id": "PjW0e-Bqp5Q2"
   },
   "outputs": [],
   "source": [
    "# ??? 두개의 데이터 받아서 더한 결과값을 반환(return)하는 더하기(산술연산 +) 함수 만들기\n",
    "def my_e(v1, v2):\n",
    "  return v1 + v2 # 더하기만 하고 끝남 즉 이 함수 기능을 통해서 더한 결과값을 활용하기 위해 다른 곳에서 호출한 경우 더한 결과값을 못받음"
   ]
  },
  {
   "cell_type": "code",
   "execution_count": null,
   "metadata": {
    "colab": {
     "base_uri": "https://localhost:8080/"
    },
    "executionInfo": {
     "elapsed": 761,
     "status": "ok",
     "timestamp": 1620875148742,
     "user": {
      "displayName": "강정현",
      "photoUrl": "",
      "userId": "18281289507624592209"
     },
     "user_tz": -540
    },
    "id": "WEwd9fV0qKla",
    "outputId": "14df8aeb-8ad2-4a2c-f0fa-19fd4c33ae92"
   },
   "outputs": [],
   "source": [
    "print(my_e(10,20))"
   ]
  },
  {
   "cell_type": "code",
   "execution_count": null,
   "metadata": {
    "colab": {
     "base_uri": "https://localhost:8080/"
    },
    "executionInfo": {
     "elapsed": 546,
     "status": "ok",
     "timestamp": 1620875168502,
     "user": {
      "displayName": "강정현",
      "photoUrl": "",
      "userId": "18281289507624592209"
     },
     "user_tz": -540
    },
    "id": "2_YMiVx0rAVT",
    "outputId": "aab5d8ad-b238-4098-a397-d926bba06e24"
   },
   "outputs": [],
   "source": [
    "print(my_e(100,20))"
   ]
  },
  {
   "cell_type": "code",
   "execution_count": null,
   "metadata": {
    "id": "g7leKSgUc0TY"
   },
   "outputs": [],
   "source": [
    "# 입력하는 id값(실시간 가변적인 동적 데이터)을 받아서 로직 수행 검증한 결과값을 client에게 반환\n",
    "# client 는 데이터를 입력->server에 전송\n",
    "# server는 데이터를 받고 -> 검증 -> 인증 결과값을 clientd에게 응답(출력, 결과 리턴)\n",
    "\n",
    "\n",
    "데이터 받고 - 받을 수 있는 가변적인 문법\n",
    "처리하고 - 조건 비교\n",
    "리턴- return\n",
    "\n",
    "여러명이 요청하는 로직- 재사용성 고려\n",
    "필요시 마다 호출- 이름"
   ]
  },
  {
   "cell_type": "markdown",
   "metadata": {
    "id": "rI57zoE7R06L"
   },
   "source": [
    "**미션1. 윤년  프로그램을 통한 연산자 및 조건식 이해하기**\n",
    "\n",
    "- 4로 나누어 떨어지는 년도 : 값 % 4이 0    \n",
    "- 그 중 100으로 나누어 떨어지는 년도는 윤년이 아님 : 값 % 100 의 0과 비교\n",
    "- 400으로 나누어 떨어지는 년도는 무조건 윤년 : 1+2 또는 3번째 조건식 비교( 값 % 400와 0 비교)"
   ]
  },
  {
   "cell_type": "code",
   "execution_count": null,
   "metadata": {},
   "outputs": [],
   "source": [
    "# 그리고 와 또는 -> 프로그래밍화\n",
    "# 조건식에 반영시 and : 해당 조건들 모두 True인 경우에 유효\n",
    "# or : 해당 조건들 중 하나만이라도 True라면 유효\n",
    "\n",
    "# 조건식1 and 조건식2\n",
    "# 조건식1 or  조건식2\n",
    "\n",
    "if 'a' == 'a' and 'b' == 'b' :\n",
    "    print('두 조건 True')"
   ]
  },
  {
   "cell_type": "code",
   "execution_count": null,
   "metadata": {},
   "outputs": [],
   "source": [
    "if 'a' == 'a2' or 'b' == 'b' :\n",
    "    print('두 조건 중 하나만 True여도 가능')"
   ]
  },
  {
   "cell_type": "code",
   "execution_count": null,
   "metadata": {},
   "outputs": [],
   "source": [
    "if 'a' == 'a2' and 'b' == 'b' :\n",
    "    print('두 조건 중 하나만 True여도 가능')"
   ]
  },
  {
   "cell_type": "code",
   "execution_count": null,
   "metadata": {},
   "outputs": [],
   "source": [
    "# id/pw를 인증해주는 함수 - encore / 77만 유효 가정\n",
    "# 방법 1\n",
    "def login_check(id, pw):\n",
    "    if id=='encore' and pw==77:\n",
    "        print('인증 성공')\n",
    "    else:\n",
    "        print('인증 실패')"
   ]
  },
  {
   "cell_type": "code",
   "execution_count": null,
   "metadata": {},
   "outputs": [],
   "source": [
    "login_check('encore', 77)"
   ]
  },
  {
   "cell_type": "code",
   "execution_count": null,
   "metadata": {},
   "outputs": [],
   "source": [
    "login_check('p', 77)"
   ]
  },
  {
   "cell_type": "code",
   "execution_count": null,
   "metadata": {},
   "outputs": [],
   "source": [
    "#방법 2 - 중첩 조건문\n",
    "\n",
    "def login_check1(id, pw):\n",
    "    if id=='encore':\n",
    "        if pw==77:\n",
    "            print('인증 성공')\n",
    "        else:\n",
    "            print('pw만 인증 실패')\n",
    "    else:\n",
    "        print('id 인증 실패')"
   ]
  },
  {
   "cell_type": "code",
   "execution_count": null,
   "metadata": {},
   "outputs": [],
   "source": [
    "login_check1('p', 77)"
   ]
  },
  {
   "cell_type": "code",
   "execution_count": null,
   "metadata": {},
   "outputs": [],
   "source": [
    "v = 'string'\n",
    "if v:\n",
    "    print(True)\n",
    "else:\n",
    "    print(False)"
   ]
  },
  {
   "cell_type": "code",
   "execution_count": null,
   "metadata": {},
   "outputs": [],
   "source": [
    "v = ''# 길이가 0인 blank 문자열\n",
    "if v:\n",
    "    print(True)\n",
    "else:\n",
    "    print(False)"
   ]
  },
  {
   "cell_type": "code",
   "execution_count": null,
   "metadata": {},
   "outputs": [],
   "source": [
    "# 다수의 데이터들을 하나의 변수로 관리\n",
    "v = 1\n",
    "v2 = [1,2,3] # list 구조의 다수의 데이터 관리 list라는 타입\n",
    "v3 = [] # 데이터가 없는 list들은 조건식 비교 표현식 없이도 False\n",
    "if v3:\n",
    "    print(True)\n",
    "else:\n",
    "    print(False)"
   ]
  },
  {
   "cell_type": "code",
   "execution_count": null,
   "metadata": {},
   "outputs": [],
   "source": [
    "v =input() # 실행시 실시간 입력 가능하게 해주는 함수\n",
    "print(v)   # 입력된 데이터를 출력\n",
    "print(type(v)) # 입력되는 모든 데이터는 str(python 문자열)\n",
    "\n",
    "#사칙 연산과 같은 연산작업이 필수인 경우 str -> 숫자(int or float)\n",
    "print( type(int(v)) )"
   ]
  },
  {
   "cell_type": "code",
   "execution_count": null,
   "metadata": {},
   "outputs": [],
   "source": [
    "type(v2)"
   ]
  },
  {
   "cell_type": "code",
   "execution_count": null,
   "metadata": {
    "executionInfo": {
     "elapsed": 598,
     "status": "ok",
     "timestamp": 1620882084072,
     "user": {
      "displayName": "강정현",
      "photoUrl": "",
      "userId": "18281289507624592209"
     },
     "user_tz": -540
    },
    "id": "p5RndAGxR06M"
   },
   "outputs": [],
   "source": [
    "def year(w):\n",
    "    if w%4 == 0 and w%100 != 0:\n",
    "        return \"윤년\"\n",
    "    elif w%400 !=0:\n",
    "        return \"윤년\"\n",
    "    else:\n",
    "        return \"윤년이아님\""
   ]
  },
  {
   "cell_type": "code",
   "execution_count": null,
   "metadata": {
    "colab": {
     "base_uri": "https://localhost:8080/"
    },
    "executionInfo": {
     "elapsed": 722,
     "status": "ok",
     "timestamp": 1620882176958,
     "user": {
      "displayName": "강정현",
      "photoUrl": "",
      "userId": "18281289507624592209"
     },
     "user_tz": -540
    },
    "id": "FFqX_gugvHfP",
    "outputId": "691adb91-31ff-45de-b2dd-2c27cd51fdda"
   },
   "outputs": [],
   "source": [
    "print(year(2016))"
   ]
  },
  {
   "cell_type": "markdown",
   "metadata": {
    "id": "2Mip93stR06N"
   },
   "source": [
    "**미션2. 문자열의 중간 문자를 추출해 보기**\n",
    "\n",
    "실시간 입력되는 문자열의 중앙에 있는 문자를 출력한다. 예를 들어서 문자열이 \"weekday\"이라면 중앙의 문자는 \"k\"가 된다.<br>\n",
    "하지만 만약 문자열이 짝수개의 문자를 가지고 있다면 중앙의 2개의 글자를 출력한다.<br>\n",
    "예를 들어서 \"string\" 문자열에서는 \"ri\"를 반환한다. "
   ]
  },
  {
   "cell_type": "code",
   "execution_count": null,
   "metadata": {
    "id": "0-a10Gc3R06O"
   },
   "outputs": [],
   "source": [
    "#문자열의 길이값을 반환\n",
    "#문자열 길이 확인 후에 호출한 곳으로 길이값 반환(리턴값)\n",
    "len('test'), len('string'), len('weekday')"
   ]
  },
  {
   "cell_type": "code",
   "execution_count": null,
   "metadata": {},
   "outputs": [],
   "source": [
    "def sol(s):\n",
    "    if len(s) % 2 == 0:\n",
    "        return s[len(s)//2 -1], s[len(s)//2]\n",
    "    else:\n",
    "        return s[len(s)//2]\n",
    "s = 'weekday'\n",
    "\n",
    "sol(s)"
   ]
  },
  {
   "cell_type": "code",
   "execution_count": null,
   "metadata": {},
   "outputs": [],
   "source": [
    "7/2, 7//2"
   ]
  },
  {
   "cell_type": "code",
   "execution_count": null,
   "metadata": {},
   "outputs": [],
   "source": [
    "v = 'string'\n",
    "c1= v[0]  #s\n",
    "c2= v[2]  #r\n",
    "print(type(v))\n",
    "print(type(c1))\n",
    "v2 =[1,2,3,4,5,7,8]\n",
    "    print(type(v2))  # <class 'list'> = list"
   ]
  },
  {
   "cell_type": "code",
   "execution_count": null,
   "metadata": {},
   "outputs": [],
   "source": [
    "v2=[1]\n",
    "print(type(v2))"
   ]
  },
  {
   "cell_type": "markdown",
   "metadata": {
    "id": "4NUEtnh_R06P"
   },
   "source": [
    "**미션3. 임금 계산해 보기**\n",
    "\n",
    "사용자에게 근무 시간과 시간당 임금을 물어보고, 주당 근무 시간이 40시간을 넘으면 1.5배의 임금을 지급해야 한다고 가정할 경우<br> \n",
    "이번주에 받는 총임금을 계산하는 프로그램을 만들어 보자"
   ]
  },
  {
   "cell_type": "code",
   "execution_count": null,
   "metadata": {
    "id": "n4Na5-oSR06Q"
   },
   "outputs": [],
   "source": [
    "def pay(a,b):\n",
    "    if a >=40:\n",
    "        return a * (1.5*b)\n",
    "    else:\n",
    "        return a * b"
   ]
  },
  {
   "cell_type": "code",
   "execution_count": null,
   "metadata": {},
   "outputs": [],
   "source": [
    "print(pay(41,1000))"
   ]
  },
  {
   "cell_type": "markdown",
   "metadata": {
    "id": "cCgIbH_4R06R"
   },
   "source": [
    "## 반복문"
   ]
  },
  {
   "cell_type": "code",
   "execution_count": null,
   "metadata": {},
   "outputs": [],
   "source": [
    "multi = [1,2,3,4,5]\n",
    "\n",
    "print(multi)\n",
    "print(type(multi))"
   ]
  },
  {
   "cell_type": "code",
   "execution_count": null,
   "metadata": {
    "id": "StR5vBqsR06S"
   },
   "outputs": [],
   "source": [
    "# 다수의 데이터가 존재할 경우 하나씩 하나씩 뽑아서 화면에 출력\n",
    "#다수의 데이터가 있어야 하고 -> 하나씩 뽑은 데이터를 관리하는 변수 -> 출력\n",
    "\n",
    "# 다수의 데이터 = multi\n",
    "# 뽑은 데이터 보유 변수 = one\n",
    "\n",
    "multi = [1,2,3,4,5]\n",
    "\n",
    "for one in multi:\n",
    "    print(one)"
   ]
  },
  {
   "cell_type": "code",
   "execution_count": null,
   "metadata": {
    "scrolled": false
   },
   "outputs": [],
   "source": [
    "for one in multi:\n",
    "    print(one, end = ' ') # 반복하면서 한line에 데이터 출력 가능한 속성"
   ]
  },
  {
   "cell_type": "code",
   "execution_count": null,
   "metadata": {
    "scrolled": false
   },
   "outputs": [],
   "source": [
    "for one in multi:\n",
    "    print(one, end = '-') # 반복하면서 한line에 데이터 출력 가능한 속성"
   ]
  },
  {
   "cell_type": "code",
   "execution_count": null,
   "metadata": {
    "scrolled": true
   },
   "outputs": [],
   "source": [
    "# 0 100까지이 101개의 숫자값을 출력 line 단위로\n",
    "# range() : 일정 범위의 숫자값을 자동 생성해 주는 함수\n",
    "\n",
    "for data in range(5):\n",
    "    print(data)"
   ]
  },
  {
   "cell_type": "code",
   "execution_count": null,
   "metadata": {
    "scrolled": true
   },
   "outputs": [],
   "source": [
    "# 0 100까지이 101개의 숫자값을 출력 line 단위로\n",
    "# range() : 일정 범위의 숫자값을 자동 생성해 주는 함수\n",
    "\n",
    "for data in range(1,6):\n",
    "    print(data)"
   ]
  },
  {
   "cell_type": "code",
   "execution_count": null,
   "metadata": {},
   "outputs": [],
   "source": []
  },
  {
   "cell_type": "code",
   "execution_count": null,
   "metadata": {},
   "outputs": [],
   "source": [
    "# 0 100까지이 101개의 숫자값을 출력 line 단위로\n",
    "# range() : 일정 범위의 숫자값을 자동 생성해 주는 함수\n",
    "\n",
    "for date in range(1,6,2):\n",
    "    print(date)"
   ]
  },
  {
   "cell_type": "code",
   "execution_count": null,
   "metadata": {},
   "outputs": [],
   "source": [
    "for i in range(9):\n",
    "    if i > 3: # 4인 경우가 true\n",
    "        break # 반복문 종료\n",
    "    print(i)"
   ]
  },
  {
   "cell_type": "code",
   "execution_count": null,
   "metadata": {},
   "outputs": [],
   "source": [
    "for i in range(9):\n",
    "    if i > 3: # 4인 경우가 true\n",
    "        print('-', i)\n",
    "        continue\n",
    "    print(i)"
   ]
  },
  {
   "cell_type": "code",
   "execution_count": null,
   "metadata": {},
   "outputs": [],
   "source": [
    "for i in range(9):\n",
    "    if i == 3:\n",
    "        continue\n",
    "    print(i)"
   ]
  },
  {
   "cell_type": "code",
   "execution_count": null,
   "metadata": {},
   "outputs": [],
   "source": [
    "# 가변적인 입력 숫자값(재사용성)으로 range 함수에 적용해서 그 수만큼 반복\n",
    "# 단, 만일 반복되는 데아터가 5인 경우만 skip\n",
    "\n",
    "#구현\n",
    "def my_for(v):\n",
    "    for d in range(v):\n",
    "        if print(d) == 5:\n",
    "            continue\n",
    "        print(d)"
   ]
  },
  {
   "cell_type": "code",
   "execution_count": null,
   "metadata": {},
   "outputs": [],
   "source": [
    "# 구현된 함수 호출\n",
    "my_for(10)"
   ]
  },
  {
   "cell_type": "code",
   "execution_count": null,
   "metadata": {},
   "outputs": [],
   "source": [
    "#나만의 문제 만들기 (1)"
   ]
  },
  {
   "cell_type": "code",
   "execution_count": null,
   "metadata": {},
   "outputs": [],
   "source": [
    "1~ 100까지의 숫자 중 소수에 해당되는 값만 가로로 출력되도록 하시오."
   ]
  },
  {
   "cell_type": "code",
   "execution_count": null,
   "metadata": {},
   "outputs": [],
   "source": [
    "def"
   ]
  },
  {
   "cell_type": "markdown",
   "metadata": {
    "id": "9gtlf8i1R06T"
   },
   "source": [
    "**미션 - 숫자로 pyramid 만들기**\n",
    "\n",
    "- 중첩 for문과 range() 함수 활용\n",
    "- 함수로 구현"
   ]
  },
  {
   "cell_type": "code",
   "execution_count": null,
   "metadata": {
    "id": "tIsj6fX9R06U"
   },
   "outputs": [],
   "source": [
    "def pyramid(v):\n",
    "    for data in range(1, v+1): # outer loop\n",
    "        for j in range(data):  # inner loop\n",
    "            print(data, end='') \n",
    "        print() #black new ㅣine, outer loop에 포함된 로직"
   ]
  },
  {
   "cell_type": "code",
   "execution_count": null,
   "metadata": {},
   "outputs": [],
   "source": [
    "pyramid(5)"
   ]
  },
  {
   "cell_type": "markdown",
   "metadata": {
    "id": "kOMwwTGMR06V"
   },
   "source": [
    "**미션- 팩토리얼 계산하기**\n",
    ">반복문을 활용하여 팩토리얼 계산해 보기<br>\n",
    "for문과 while문을 활용하여 각각 만들어 보기<br>\n",
    "팩토리얼 n!은 1~n까지의 정수를 모두 곱한 것을 의미한다<br>\n",
    "n! = 1*2*3*...(n-1)*n\n",
    "\n",
    ">힌트 : range() 함수를 이용"
   ]
  },
  {
   "cell_type": "code",
   "execution_count": 1,
   "metadata": {},
   "outputs": [
    {
     "name": "stdout",
     "output_type": "stream",
     "text": [
      "2\n",
      "4\n"
     ]
    }
   ],
   "source": [
    "n = 2\n",
    "fact = 2\n",
    "for i in range(1,n+1):\n",
    "    fact = fact * i\n",
    "    print(fact)"
   ]
  },
  {
   "cell_type": "code",
   "execution_count": 2,
   "metadata": {},
   "outputs": [
    {
     "name": "stdout",
     "output_type": "stream",
     "text": [
      "6 !은 720\n"
     ]
    }
   ],
   "source": [
    "n = 6\n",
    "fact = 1\n",
    "for i in range(1,n+1):\n",
    "    fact = fact * i\n",
    "    \n",
    "print(n, '!은', fact)"
   ]
  },
  {
   "cell_type": "markdown",
   "metadata": {
    "id": "l30fK4b3R06X"
   },
   "source": [
    "**미션-계좌번호 처리하기**\n",
    "\n",
    "> 인터넷 뱅킹을 사용하다보면 계좌번호를 입력할 때, \"312-02-1234567\"과 사용자로부터 \"-\"가 포함된 계좌 번호를 받아서 \"-\"을 삭제한 문자열을 만들어보자. \n"
   ]
  },
  {
   "cell_type": "markdown",
   "metadata": {},
   "source": [
    "문자열 데이터 획득 -> 문자열을 철자 하나하나씩 뽑아(for) -> - 여부 검증(if)\n",
    "-> -입니다 또는 -아닙니다 : == 비교\n",
    "    - 일 경우: 지우기\n",
    "    - 이 아닌경우 : 유지"
   ]
  },
  {
   "cell_type": "code",
   "execution_count": null,
   "metadata": {},
   "outputs": [],
   "source": [
    "raw = '312-02-1234567'\n",
    "\n",
    "final_data = ''\n",
    "\n",
    "for v in raw:\n",
    "    if v != '-':\n",
    "        final_data = final_data + v\n",
    "\n",
    "print(final_data)"
   ]
  },
  {
   "cell_type": "code",
   "execution_count": null,
   "metadata": {},
   "outputs": [],
   "source": []
  },
  {
   "cell_type": "code",
   "execution_count": null,
   "metadata": {
    "id": "vWAjdQTdR06Y"
   },
   "outputs": [],
   "source": [
    "data = 'string'\n",
    "\n",
    "#문자열도 반복문에 적용 가능\n",
    "#문자열의 철자 개수 만큼 반복해서 하나씩 뽑음\n",
    "for v in data:\n",
    "    print(v) # 출력 + new line 자동 반영(new line 무시 표현 : end='')"
   ]
  },
  {
   "cell_type": "code",
   "execution_count": null,
   "metadata": {},
   "outputs": [],
   "source": []
  },
  {
   "cell_type": "markdown",
   "metadata": {
    "id": "XslKMc1cR06Z"
   },
   "source": [
    "**미션 - 알파벳, 숫자, 스페이스의 처리**\n",
    "\n",
    "> 문자열을 조사하여서 알파벳 문자의 개수, 숫자의 개수, 스페이스의 개수를 출력하는 프로그램을 작성하라"
   ]
  },
  {
   "cell_type": "code",
   "execution_count": null,
   "metadata": {
    "id": "Bolhbr2QR06Z"
   },
   "outputs": [],
   "source": [
    "statement = input(\"문자열을 입력하시오: \")\n",
    "# 개수 counting\n",
    "alphas = 0\n",
    "digits = 0\n",
    "spaces = 0\n",
    "# 초기 개수를 0으로 설정하고  isalpha()함수활용\n",
    "for c in statement:\n",
    "    if c.isalpha(): #.isalpha()로 알파벳임을 확인하면 카운트에 1을 추가함으로 써 계속 숫자를 더해간다\n",
    "        alphas = alphas + 1\n",
    "    if c.isdigit():\n",
    "        digits = digits + 1\n",
    "    if c.isspace():\n",
    "          spaces = spaces + 1\n",
    "            \n",
    "print (\"알파벳 문자의 개수=\", alphas)\n",
    "print (\"숫자 문자의 개수=\", digits)\n",
    "print (\"스페이스  문자의 개수=\", spaces)"
   ]
  },
  {
   "cell_type": "code",
   "execution_count": null,
   "metadata": {},
   "outputs": [],
   "source": [
    "statement = input(\"문자열을 입력하시오: \")\n",
    "# 개수 counting\n",
    "alphas = 0\n",
    "digits = 0\n",
    "spaces = 0\n",
    "# 초기 개수를 0으로 설정하고  isalpha()함수활용\n",
    "for c in statement:\n",
    "    if c.isalpha(): #.isalpha()로 알파벳임을 확인하면 카운트에 1을 추가함으로 써 계속 숫자를 더해간다\n",
    "        alphas = alphas + 1\n",
    "    elif c.isdigit():\n",
    "        digits = digits + 1\n",
    "    elif c.isspace():\n",
    "          spaces = spaces + 1\n",
    "    else:\n",
    "        print('특수기호입니다')\n",
    "print (\"알파벳 문자의 개수=\", alphas)\n",
    "print (\"숫자 문자의 개수=\", digits)\n",
    "print (\"스페이스  문자의 개수=\", spaces)"
   ]
  },
  {
   "cell_type": "code",
   "execution_count": 2,
   "metadata": {},
   "outputs": [
    {
     "ename": "AttributeError",
     "evalue": "'int' object has no attribute 'isalpha'",
     "output_type": "error",
     "traceback": [
      "\u001b[1;31m---------------------------------------------------------------------------\u001b[0m",
      "\u001b[1;31mAttributeError\u001b[0m                            Traceback (most recent call last)",
      "\u001b[1;32m<ipython-input-2-8db6eb053c6b>\u001b[0m in \u001b[0;36m<module>\u001b[1;34m\u001b[0m\n\u001b[0;32m      1\u001b[0m \u001b[1;32mfor\u001b[0m \u001b[0mc\u001b[0m \u001b[1;32min\u001b[0m \u001b[1;33m[\u001b[0m\u001b[1;36m1\u001b[0m \u001b[1;33m,\u001b[0m \u001b[1;36m2\u001b[0m\u001b[1;33m]\u001b[0m\u001b[1;33m:\u001b[0m\u001b[1;33m\u001b[0m\u001b[1;33m\u001b[0m\u001b[0m\n\u001b[1;32m----> 2\u001b[1;33m     \u001b[0mprint\u001b[0m\u001b[1;33m(\u001b[0m\u001b[0mc\u001b[0m\u001b[1;33m.\u001b[0m\u001b[0misalpha\u001b[0m\u001b[1;33m(\u001b[0m\u001b[1;33m)\u001b[0m\u001b[1;33m)\u001b[0m\u001b[1;33m\u001b[0m\u001b[1;33m\u001b[0m\u001b[0m\n\u001b[0m",
      "\u001b[1;31mAttributeError\u001b[0m: 'int' object has no attribute 'isalpha'"
     ]
    }
   ],
   "source": [
    "for c in [1, 2]:\n",
    "    print(c.isalpha())"
   ]
  },
  {
   "cell_type": "code",
   "execution_count": null,
   "metadata": {},
   "outputs": [],
   "source": []
  },
  {
   "cell_type": "markdown",
   "metadata": {
    "id": "Qzgg-UUGR06a"
   },
   "source": [
    "**실행 결과와 비교해 보면서 분석해 보기**"
   ]
  },
  {
   "cell_type": "code",
   "execution_count": 3,
   "metadata": {
    "id": "-4-exbJSR06b",
    "outputId": "36315d99-c99a-4eff-91ea-13482533e3f6",
    "scrolled": true
   },
   "outputs": [
    {
     "name": "stdout",
     "output_type": "stream",
     "text": [
      "3 4 5\n",
      "4 3 5\n",
      "5 12 13\n",
      "6 8 10\n",
      "7 24 25\n",
      "8 6 10\n",
      "8 15 17\n",
      "9 12 15\n",
      "9 40 41\n",
      "10 24 26\n",
      "11 60 61\n",
      "12 5 13\n",
      "12 9 15\n",
      "12 16 20\n",
      "12 35 37\n",
      "13 84 85\n",
      "14 48 50\n",
      "15 8 17\n",
      "15 20 25\n",
      "15 36 39\n",
      "16 12 20\n",
      "16 30 34\n",
      "16 63 65\n",
      "18 24 30\n",
      "18 80 82\n",
      "20 15 25\n",
      "20 21 29\n",
      "20 48 52\n",
      "21 20 29\n",
      "21 28 35\n",
      "21 72 75\n",
      "24 7 25\n",
      "24 10 26\n",
      "24 18 30\n",
      "24 32 40\n",
      "24 45 51\n",
      "24 70 74\n",
      "25 60 65\n",
      "27 36 45\n",
      "28 21 35\n",
      "28 45 53\n",
      "28 96 100\n",
      "30 16 34\n",
      "30 40 50\n",
      "30 72 78\n",
      "32 24 40\n",
      "32 60 68\n",
      "33 44 55\n",
      "33 56 65\n",
      "35 12 37\n",
      "35 84 91\n",
      "36 15 39\n",
      "36 27 45\n",
      "36 48 60\n",
      "36 77 85\n",
      "39 52 65\n",
      "39 80 89\n",
      "40 9 41\n",
      "40 30 50\n",
      "40 42 58\n",
      "40 75 85\n",
      "42 40 58\n",
      "42 56 70\n",
      "44 33 55\n",
      "45 24 51\n",
      "45 28 53\n",
      "45 60 75\n",
      "48 14 50\n",
      "48 20 52\n",
      "48 36 60\n",
      "48 55 73\n",
      "48 64 80\n",
      "51 68 85\n",
      "52 39 65\n",
      "54 72 90\n",
      "55 48 73\n",
      "56 33 65\n",
      "56 42 70\n",
      "57 76 95\n",
      "60 11 61\n",
      "60 25 65\n",
      "60 32 68\n",
      "60 45 75\n",
      "60 63 87\n",
      "60 80 100\n",
      "63 16 65\n",
      "63 60 87\n",
      "64 48 80\n",
      "65 72 97\n",
      "68 51 85\n",
      "70 24 74\n",
      "72 21 75\n",
      "72 30 78\n",
      "72 54 90\n",
      "72 65 97\n",
      "75 40 85\n",
      "76 57 95\n",
      "77 36 85\n",
      "80 18 82\n",
      "80 39 89\n",
      "80 60 100\n",
      "84 13 85\n",
      "84 35 91\n",
      "96 28 100\n"
     ]
    }
   ],
   "source": [
    "for a in range(1, 101, 1):\n",
    "    for b in range(1, 101, 1):\n",
    "        for c in range(1, 101, 1):\n",
    "            if( (a*a+b*b)==c*c ):\n",
    "                print(a, b, c)"
   ]
  },
  {
   "cell_type": "code",
   "execution_count": null,
   "metadata": {},
   "outputs": [],
   "source": [
    "1.  성적을 입력시 90점이상은 'A' 등급 80점대는 'B'등급 그나머지는 'C'등급으로 하고자한다.\n",
    "\n",
    "\n",
    "2.  1부터 100까지의 숫자 중 짝수만 출력하고하시오\n",
    "(단 두자리 숫자만 출력되게하시오)\n"
   ]
  },
  {
   "cell_type": "code",
   "execution_count": null,
   "metadata": {
    "id": "GN9-i5-vR06d"
   },
   "outputs": [],
   "source": [
    "def grade(score):\n",
    "    if score >= 90:\n",
    "        print('A등급')\n",
    "    elif score >= 80:\n",
    "        print('B등급')\n",
    "    else:\n",
    "        print('C등급')\n",
    "        \n",
    "print(grade(84))"
   ]
  },
  {
   "cell_type": "code",
   "execution_count": 4,
   "metadata": {
    "collapsed": true
   },
   "outputs": [
    {
     "name": "stdout",
     "output_type": "stream",
     "text": [
      "0\n",
      "2\n",
      "4\n",
      "6\n",
      "8\n",
      "10\n",
      "12\n",
      "14\n",
      "16\n",
      "18\n",
      "20\n",
      "22\n",
      "24\n",
      "26\n",
      "28\n",
      "30\n",
      "32\n",
      "34\n",
      "36\n",
      "38\n",
      "40\n",
      "42\n",
      "44\n",
      "46\n",
      "48\n",
      "50\n",
      "52\n",
      "54\n",
      "56\n",
      "58\n",
      "60\n",
      "62\n",
      "64\n",
      "66\n",
      "68\n",
      "70\n",
      "72\n",
      "74\n",
      "76\n",
      "78\n",
      "80\n",
      "82\n",
      "84\n",
      "86\n",
      "88\n",
      "90\n",
      "92\n",
      "94\n",
      "96\n",
      "98\n",
      "None\n"
     ]
    }
   ],
   "source": [
    "def even(A):\n",
    "    for d in range(A):\n",
    "        if d % 2 !=0:\n",
    "            continue\n",
    "        print(d)\n",
    "print(even(100))"
   ]
  },
  {
   "cell_type": "code",
   "execution_count": null,
   "metadata": {},
   "outputs": [],
   "source": [
    "ls = [1,3,5,7,9,11,13,15]라는 리스트가 있다. (미리 지정한다)\n",
    "\n",
    "특정 숫자를 입력하면 리스트 안의 인덱스를 돌며 존재한다면 리스트 안의 몇번째 인덱스에 특정 숫자가 들어있음을 출력하고 존재하지 않는다면 \"존재하지 않습니다\"를 출력하는 함수를 만들어보세요!"
   ]
  }
 ],
 "metadata": {
  "colab": {
   "collapsed_sections": [],
   "name": "step02ConditionLoop.ipynb",
   "provenance": []
  },
  "kernelspec": {
   "display_name": "Python 3",
   "language": "python",
   "name": "python3"
  },
  "language_info": {
   "codemirror_mode": {
    "name": "ipython",
    "version": 3
   },
   "file_extension": ".py",
   "mimetype": "text/x-python",
   "name": "python",
   "nbconvert_exporter": "python",
   "pygments_lexer": "ipython3",
   "version": "3.8.5"
  }
 },
 "nbformat": 4,
 "nbformat_minor": 1
}
