{
 "cells": [
  {
   "cell_type": "markdown",
   "metadata": {},
   "source": [
    "### python을 활용한 객체 지향 프로그래밍 개발 기술 학습\n",
    "\n",
    "**주요 용어**\n",
    "\n",
    "1. class - 객체(데이터들을 하나의 단위로 관리하는 실제 사용 가능한 메모리상의 영역)를 사용 가능하게 해주는 설계도(붕어빵과 비교시 붕어빵 - 객체, 붕어빵틀 class)\n",
    "\n",
    "2. 객체(object) - 메모리에 사용 가능하게 생성된 데이터 집합\n",
    "\n",
    "3. 객체 지행 프로그램 방식의 주 목적<br>\n",
    "> 클래스 하나 제대로 설꼐 후에 데이터 표현을 위한 재사용을 위함\n",
    "> 아파트 건축 설계도(class)/개발한 아파트(object = instance)"
   ]
  },
  {
   "cell_type": "code",
   "execution_count": 2,
   "metadata": {},
   "outputs": [],
   "source": [
    "# class\n",
    "class Person:\n",
    "    \n",
    "    # 특별한 메소드 - 생성자(객체 생성시에 호출되는 기능)\n",
    "  def __init__(self, name, age):\n",
    "    self.name = name\n",
    "    self.age = age"
   ]
  },
  {
   "cell_type": "code",
   "execution_count": 3,
   "metadata": {},
   "outputs": [
    {
     "name": "stdout",
     "output_type": "stream",
     "text": [
      "John\n",
      "36\n"
     ]
    }
   ],
   "source": [
    "# 객체\n",
    "p1 = Person(\"John\", 36) # Person 객체 생성, Person instance 생성\n",
    "\n",
    "print(p1.name)\n",
    "print(p1.age)"
   ]
  },
  {
   "cell_type": "code",
   "execution_count": 4,
   "metadata": {},
   "outputs": [
    {
     "name": "stdout",
     "output_type": "stream",
     "text": [
      "유재석\n",
      "36\n"
     ]
    }
   ],
   "source": [
    "p2 = Person(\"유재석\", 36) # Person 객체 생성, Person instance 생성\n",
    "\n",
    "print(p2.name)\n",
    "print(p2.age)"
   ]
  },
  {
   "cell_type": "code",
   "execution_count": 19,
   "metadata": {},
   "outputs": [],
   "source": [
    "# 학생들 정보를 관리하는 프로그램\n",
    "# 데이터 = 학번(no)/이름(name)/학년(grade)...\n",
    "# 메소드 : 데이터를 관리할 수 있는 기능의 메소드들도 포함해서 개발\n",
    "\n",
    "class Student:\n",
    "    def __init__(self, name, age):\n",
    "        \n",
    "        # name이란 멤버 변수 생성 및 값 할당\n",
    "        # self.name : Person 클래스의 멤버 변수\n",
    "        # name : __init__이라는 특별한 메소드 내에서만 사용 가능한 로컬 변수\n",
    "        self.name = name\n",
    "        self. age = age\n",
    "    "
   ]
  },
  {
   "cell_type": "code",
   "execution_count": 35,
   "metadata": {},
   "outputs": [],
   "source": [
    "class Student:\n",
    "    def __init__(self, no, name, grade):\n",
    "        # 클래스를 구성하는 멤버 변수 = 로컬 변수\n",
    "        self.no = no\n",
    "        self.name = name\n",
    "        self.grade = grade\n",
    "    # 사용 관점(호출 관점)에서 데이터를 획득\n",
    "    # 학생 이름을 호출한 곳으로 반환\n",
    "    def getname():\n",
    "        return self.name\n",
    "    # name 멤버 변수값을 수정하는 메소드\n",
    "    def setName(self,name):   # 호출시, 값 하나만\n",
    "        self.name = name"
   ]
  },
  {
   "cell_type": "code",
   "execution_count": 36,
   "metadata": {},
   "outputs": [],
   "source": [
    "s1 = Student(1,'유재석', '1학년')\n",
    "s2 = Student(2,'백종원', '1학년')"
   ]
  },
  {
   "cell_type": "code",
   "execution_count": 37,
   "metadata": {},
   "outputs": [],
   "source": [
    "s1.setName('신동엽')"
   ]
  },
  {
   "cell_type": "code",
   "execution_count": 39,
   "metadata": {},
   "outputs": [
    {
     "ename": "TypeError",
     "evalue": "getname() takes 0 positional arguments but 1 was given",
     "output_type": "error",
     "traceback": [
      "\u001b[1;31m---------------------------------------------------------------------------\u001b[0m",
      "\u001b[1;31mTypeError\u001b[0m                                 Traceback (most recent call last)",
      "\u001b[1;32m<ipython-input-39-2a016948ed7d>\u001b[0m in \u001b[0;36m<module>\u001b[1;34m\u001b[0m\n\u001b[1;32m----> 1\u001b[1;33m \u001b[0mprint\u001b[0m\u001b[1;33m(\u001b[0m\u001b[0ms1\u001b[0m\u001b[1;33m.\u001b[0m\u001b[0mgetname\u001b[0m\u001b[1;33m(\u001b[0m\u001b[1;33m)\u001b[0m\u001b[1;33m)\u001b[0m\u001b[1;33m\u001b[0m\u001b[1;33m\u001b[0m\u001b[0m\n\u001b[0m",
      "\u001b[1;31mTypeError\u001b[0m: getname() takes 0 positional arguments but 1 was given"
     ]
    }
   ],
   "source": [
    "print(s1.getname())"
   ]
  },
  {
   "cell_type": "code",
   "execution_count": null,
   "metadata": {},
   "outputs": [],
   "source": []
  }
 ],
 "metadata": {
  "kernelspec": {
   "display_name": "Python 3",
   "language": "python",
   "name": "python3"
  },
  "language_info": {
   "codemirror_mode": {
    "name": "ipython",
    "version": 3
   },
   "file_extension": ".py",
   "mimetype": "text/x-python",
   "name": "python",
   "nbconvert_exporter": "python",
   "pygments_lexer": "ipython3",
   "version": "3.8.5"
  }
 },
 "nbformat": 4,
 "nbformat_minor": 4
}
