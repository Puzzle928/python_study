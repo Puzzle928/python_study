{
 "cells": [
  {
   "cell_type": "markdown",
   "metadata": {
    "id": "AoeNDK4J8UQW"
   },
   "source": [
    "미션 1) 음식 배달비 최종 결제 금액 계산하기\n",
    "\n",
    "pizza = 15,000원\n",
    "spaghetti = 8,000원\n",
    "cola = 2000원\n",
    "\n",
    "주문자에게 pizza, spaghetti, cola를 각각 몇개씩 주문할 지 물어보고, \n",
    "음식의 총 합이 30,000원 이상이면 배달비 0원, cheeseball 을 증정\n",
    "음식의 총 합이 20,000원 이상 30,000원 미만이면 배달비 0원\n",
    "음식의 총 합이 20,000원 미만이면 배달비 2,000원을 부과 한다고 가정할 경우\n",
    "음식 배달비의 최종 결제 금액을 계산하는 프로그램을 만드시오."
   ]
  },
  {
   "cell_type": "code",
   "execution_count": 7,
   "metadata": {
    "id": "qyy-uXtd8UQq"
   },
   "outputs": [
    {
     "name": "stdout",
     "output_type": "stream",
     "text": [
      "피자개수를 입력해주세요: 1\n",
      "스파게티개수를 입력해주세요: 1\n",
      "콜라개수를 입력해주세요: 1\n",
      "27000\n"
     ]
    }
   ],
   "source": [
    "p = int(input('피자개수를 입력해주세요: '))\n",
    "s = int(input('스파게티개수를 입력해주세요: '))\n",
    "c = int(input('콜라개수를 입력해주세요: '))\n",
    "\n",
    "def pay(p, s, c):\n",
    "    if (15000 * p) + (8000 * s) + (2000 * c) >= 30000:\n",
    "        print((15000 * p) + (8000 * s) + (2000 * c),'치즈볼증정')\n",
    "    elif (15000 * p)+(8000 * s) + (2000 * c) >= 30000:\n",
    "        print((15000 * p) +(8000 * s) + (2000 * c))\n",
    "    else:\n",
    "        print((15000 * p) + (8000 * s) + (2000 * c) + 2000)\n",
    "            \n",
    "pay(p, s, c)"
   ]
  },
  {
   "cell_type": "code",
   "execution_count": null,
   "metadata": {},
   "outputs": [],
   "source": []
  },
  {
   "cell_type": "markdown",
   "metadata": {
    "id": "yftXEbQc8UQr"
   },
   "source": [
    "미션 2) 회전 초밥의 최종 결제 금액 계산하기\n",
    "\n",
    "박 사장이 운영하는 회전 초밥집은 대박이 나서 계산을 하는 일손이 부족한 실정이다.박 사장은 손님이 먹은 접시의 색을 구분하고 계산하는 기계를 요청했고 업체는 색을 구분하는 소프트웨어를 개발했다. 색을 구분한 결과가 리스트 타입으로 주어졌을 때 최종 금액을 계산하는 프로그램을 작성하시오. \n",
    "\n",
    "black : 4000\n",
    "red : 3500\n",
    "green : 3000\n",
    "yellow : 2500\n",
    "\n",
    "예시 : [\"red\", \"black\", \"green\", \"green\", \"yellow\", \"red\", \"green\", \"red\", \"black\", \"yellow\"]"
   ]
  },
  {
   "cell_type": "code",
   "execution_count": 9,
   "metadata": {},
   "outputs": [
    {
     "name": "stdout",
     "output_type": "stream",
     "text": [
      "32500\n"
     ]
    }
   ],
   "source": [
    "list = [\"red\", \"black\", \"green\", \"green\", \"yellow\", \"red\", \"green\", \"red\", \"black\", \"yellow\"]\n",
    "\n",
    "def price(list):\n",
    "    black = 0\n",
    "    red = 0\n",
    "    green = 0\n",
    "    yellow = 0\n",
    "    for color in list:\n",
    "        if color == \"black\":\n",
    "            black = black + 1\n",
    "        if color == \"red\":\n",
    "            red = red + 1\n",
    "        if color == \"green\":\n",
    "            green = green + 1\n",
    "        if color == \"yellow\":\n",
    "            yellow = yellow + 1\n",
    "        total_price = (black * 4000) + (red * 3500) + (green * 3000) + (yellow * 2500)\n",
    "    print(total_price)\n",
    "price(list)"
   ]
  },
  {
   "cell_type": "code",
   "execution_count": 14,
   "metadata": {
    "id": "Y5vV-F3z8UQs"
   },
   "outputs": [
    {
     "ename": "TypeError",
     "evalue": "'list' object cannot be interpreted as an integer",
     "output_type": "error",
     "traceback": [
      "\u001b[1;31m---------------------------------------------------------------------------\u001b[0m",
      "\u001b[1;31mTypeError\u001b[0m                                 Traceback (most recent call last)",
      "\u001b[1;32m<ipython-input-14-58a1706d974f>\u001b[0m in \u001b[0;36m<module>\u001b[1;34m\u001b[0m\n\u001b[0;32m     13\u001b[0m             \u001b[1;32mreturn\u001b[0m \u001b[1;34m\"none\"\u001b[0m\u001b[1;33m\u001b[0m\u001b[1;33m\u001b[0m\u001b[0m\n\u001b[0;32m     14\u001b[0m         \u001b[0mprint\u001b[0m\u001b[1;33m(\u001b[0m\u001b[0ma\u001b[0m\u001b[1;33m)\u001b[0m\u001b[1;33m\u001b[0m\u001b[1;33m\u001b[0m\u001b[0m\n\u001b[1;32m---> 15\u001b[1;33m \u001b[0mprint\u001b[0m\u001b[1;33m(\u001b[0m\u001b[0mmoney\u001b[0m\u001b[1;33m(\u001b[0m\u001b[0mdish\u001b[0m\u001b[1;33m)\u001b[0m\u001b[1;33m)\u001b[0m\u001b[1;33m\u001b[0m\u001b[1;33m\u001b[0m\u001b[0m\n\u001b[0m\u001b[0;32m     16\u001b[0m \u001b[1;33m\u001b[0m\u001b[0m\n\u001b[0;32m     17\u001b[0m \u001b[1;33m\u001b[0m\u001b[0m\n",
      "\u001b[1;32m<ipython-input-14-58a1706d974f>\u001b[0m in \u001b[0;36mmoney\u001b[1;34m(list)\u001b[0m\n\u001b[0;32m      1\u001b[0m \u001b[0mdish\u001b[0m \u001b[1;33m=\u001b[0m \u001b[1;33m[\u001b[0m\u001b[1;34m\"red\"\u001b[0m\u001b[1;33m,\u001b[0m \u001b[1;34m\"black\"\u001b[0m\u001b[1;33m,\u001b[0m \u001b[1;34m\"green\"\u001b[0m\u001b[1;33m,\u001b[0m \u001b[1;34m\"green\"\u001b[0m\u001b[1;33m,\u001b[0m \u001b[1;34m\"yellow\"\u001b[0m\u001b[1;33m,\u001b[0m \u001b[1;34m\"red\"\u001b[0m\u001b[1;33m,\u001b[0m \u001b[1;34m\"green\"\u001b[0m\u001b[1;33m,\u001b[0m \u001b[1;34m\"red\"\u001b[0m\u001b[1;33m,\u001b[0m \u001b[1;34m\"black\"\u001b[0m\u001b[1;33m,\u001b[0m \u001b[1;34m\"yellow\"\u001b[0m\u001b[1;33m]\u001b[0m\u001b[1;33m\u001b[0m\u001b[1;33m\u001b[0m\u001b[0m\n\u001b[0;32m      2\u001b[0m \u001b[1;32mdef\u001b[0m \u001b[0mmoney\u001b[0m\u001b[1;33m(\u001b[0m\u001b[0mlist\u001b[0m\u001b[1;33m)\u001b[0m\u001b[1;33m:\u001b[0m\u001b[1;33m\u001b[0m\u001b[1;33m\u001b[0m\u001b[0m\n\u001b[1;32m----> 3\u001b[1;33m     \u001b[1;32mfor\u001b[0m \u001b[0ma\u001b[0m \u001b[1;32min\u001b[0m \u001b[0mrange\u001b[0m\u001b[1;33m(\u001b[0m\u001b[0mlist\u001b[0m\u001b[1;33m)\u001b[0m\u001b[1;33m:\u001b[0m\u001b[1;33m\u001b[0m\u001b[1;33m\u001b[0m\u001b[0m\n\u001b[0m\u001b[0;32m      4\u001b[0m         \u001b[1;32mif\u001b[0m \u001b[0ma\u001b[0m \u001b[1;33m==\u001b[0m \u001b[1;34m'red'\u001b[0m\u001b[1;33m:\u001b[0m\u001b[1;33m\u001b[0m\u001b[1;33m\u001b[0m\u001b[0m\n\u001b[0;32m      5\u001b[0m             \u001b[1;32mreturn\u001b[0m \u001b[1;36m3500\u001b[0m\u001b[1;33m\u001b[0m\u001b[1;33m\u001b[0m\u001b[0m\n",
      "\u001b[1;31mTypeError\u001b[0m: 'list' object cannot be interpreted as an integer"
     ]
    }
   ],
   "source": [
    "def sushi_price(color_list):\n",
    "    black = 0\n",
    "    red = 0\n",
    "    green = 0\n",
    "    yellow = 0\n",
    "    for color in color_list:\n",
    "        if color == 'black':\n",
    "            black += 1\n",
    "        elif color == 'red':\n",
    "            red += 1\n",
    "        elif color == 'green':\n",
    "            green += 1\n",
    "        else:\n",
    "            yellow += 1\n",
    "    total_price = black * 4000 + red * 3500 + green *3000 + yellow * 2500\n",
    "    total_plate = black + red + green + yellow\n",
    "    return total_price, total_plate\n",
    "color_list = [\"red\", \"black\", \"green\", \"green\", \"yellow\", \"red\", \"green\", \"red\", \"black\", \"yellow\"]\n",
    "sushi_price(color_list)\n",
    "\n"
   ]
  },
  {
   "cell_type": "code",
   "execution_count": 16,
   "metadata": {},
   "outputs": [
    {
     "ename": "TypeError",
     "evalue": "'list' object cannot be interpreted as an integer",
     "output_type": "error",
     "traceback": [
      "\u001b[1;31m---------------------------------------------------------------------------\u001b[0m",
      "\u001b[1;31mTypeError\u001b[0m                                 Traceback (most recent call last)",
      "\u001b[1;32m<ipython-input-16-7a6071a45eb3>\u001b[0m in \u001b[0;36m<module>\u001b[1;34m\u001b[0m\n\u001b[0;32m      1\u001b[0m \u001b[0mdish\u001b[0m \u001b[1;33m=\u001b[0m \u001b[1;33m[\u001b[0m\u001b[1;34m\"red\"\u001b[0m\u001b[1;33m,\u001b[0m \u001b[1;34m\"black\"\u001b[0m\u001b[1;33m,\u001b[0m \u001b[1;34m\"green\"\u001b[0m\u001b[1;33m,\u001b[0m \u001b[1;34m\"green\"\u001b[0m\u001b[1;33m,\u001b[0m \u001b[1;34m\"yellow\"\u001b[0m\u001b[1;33m,\u001b[0m \u001b[1;34m\"red\"\u001b[0m\u001b[1;33m,\u001b[0m \u001b[1;34m\"green\"\u001b[0m\u001b[1;33m,\u001b[0m \u001b[1;34m\"red\"\u001b[0m\u001b[1;33m,\u001b[0m \u001b[1;34m\"black\"\u001b[0m\u001b[1;33m,\u001b[0m \u001b[1;34m\"yellow\"\u001b[0m\u001b[1;33m]\u001b[0m\u001b[1;33m\u001b[0m\u001b[1;33m\u001b[0m\u001b[0m\n\u001b[1;32m----> 2\u001b[1;33m \u001b[1;32mfor\u001b[0m \u001b[0ma\u001b[0m \u001b[1;32min\u001b[0m \u001b[0mrange\u001b[0m\u001b[1;33m(\u001b[0m\u001b[0mdish\u001b[0m\u001b[1;33m)\u001b[0m\u001b[1;33m:\u001b[0m\u001b[1;33m\u001b[0m\u001b[1;33m\u001b[0m\u001b[0m\n\u001b[0m\u001b[0;32m      3\u001b[0m     \u001b[0mprint\u001b[0m\u001b[1;33m(\u001b[0m\u001b[0ma\u001b[0m\u001b[1;33m)\u001b[0m\u001b[1;33m\u001b[0m\u001b[1;33m\u001b[0m\u001b[0m\n",
      "\u001b[1;31mTypeError\u001b[0m: 'list' object cannot be interpreted as an integer"
     ]
    }
   ],
   "source": [
    "dish = [\"red\", \"black\", \"green\", \"green\", \"yellow\", \"red\", \"green\", \"red\", \"black\", \"yellow\"]\n",
    "for a in range(dish):\n",
    "    print(a)"
   ]
  },
  {
   "cell_type": "code",
   "execution_count": null,
   "metadata": {},
   "outputs": [],
   "source": []
  },
  {
   "cell_type": "code",
   "execution_count": null,
   "metadata": {},
   "outputs": [],
   "source": []
  },
  {
   "cell_type": "code",
   "execution_count": null,
   "metadata": {},
   "outputs": [],
   "source": []
  },
  {
   "cell_type": "code",
   "execution_count": null,
   "metadata": {},
   "outputs": [],
   "source": []
  },
  {
   "cell_type": "code",
   "execution_count": null,
   "metadata": {},
   "outputs": [],
   "source": []
  }
 ],
 "metadata": {
  "colab": {
   "name": "윤정화, 이현수, 장수정, 전호종.ipynb",
   "provenance": []
  },
  "kernelspec": {
   "display_name": "Python 3",
   "language": "python",
   "name": "python3"
  },
  "language_info": {
   "codemirror_mode": {
    "name": "ipython",
    "version": 3
   },
   "file_extension": ".py",
   "mimetype": "text/x-python",
   "name": "python",
   "nbconvert_exporter": "python",
   "pygments_lexer": "ipython3",
   "version": "3.8.5"
  }
 },
 "nbformat": 4,
 "nbformat_minor": 1
}
