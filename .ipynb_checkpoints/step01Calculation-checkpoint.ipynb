{
 "cells": [
  {
   "cell_type": "markdown",
   "metadata": {
    "id": "wXiK-mGyDVsV"
   },
   "source": [
    "<!--NAVIGATION-->\n",
    "[[step02. 조건문 & 반복문 학습 page로 이동](step02ConditionLoop.ipynb) ]"
   ]
  },
  {
   "cell_type": "markdown",
   "metadata": {
    "id": "CvSugjpdUpSJ"
   },
   "source": [
    "1. type()\n",
    "\n",
    "- 기능(함수) 호출해서 사용, 내장 함수\n",
    "- 함수 사용해서 데이터의 타입 확인\n",
    "- python : int(정수) / float(실수) / str(문자열)\n",
    "- 정수를 연산한 결과는 무조건 float 타입의 결과 반환\n",
    "\n",
    "2. 항목 추가\n",
    "\n",
    "-"
   ]
  },
  {
   "cell_type": "markdown",
   "metadata": {
    "id": "wCplQvbkDVsm"
   },
   "source": [
    "## 파이썬을 계산기 처럼 이용하기\n",
    "\n",
    "- 사칙연산\n",
    "- 거듭 제곱과 나머지\n",
    "- 과학적 표기법\n",
    "- 논리 연산 및 비교 연산"
   ]
  },
  {
   "cell_type": "markdown",
   "metadata": {
    "id": "iuIDjwLDDVso"
   },
   "source": [
    "1. 사칙연산"
   ]
  },
  {
   "cell_type": "code",
   "execution_count": 5,
   "metadata": {
    "colab": {
     "base_uri": "https://localhost:8080/"
    },
    "executionInfo": {
     "elapsed": 595,
     "status": "ok",
     "timestamp": 1620868687676,
     "user": {
      "displayName": "강정현",
      "photoUrl": "",
      "userId": "18281289507624592209"
     },
     "user_tz": -540
    },
    "id": "UwtFyUJUDVsp",
    "outputId": "2cf2b702-bb00-4460-820d-175852a64ad0"
   },
   "outputs": [
    {
     "data": {
      "text/plain": [
       "2"
      ]
     },
     "execution_count": 5,
     "metadata": {
      "tags": []
     },
     "output_type": "execute_result"
    }
   ],
   "source": [
    "1+1"
   ]
  },
  {
   "cell_type": "code",
   "execution_count": 6,
   "metadata": {
    "colab": {
     "base_uri": "https://localhost:8080/"
    },
    "executionInfo": {
     "elapsed": 774,
     "status": "ok",
     "timestamp": 1620868710656,
     "user": {
      "displayName": "강정현",
      "photoUrl": "",
      "userId": "18281289507624592209"
     },
     "user_tz": -540
    },
    "id": "TBmmfikpTWSm",
    "outputId": "00335002-6347-4af9-90cf-d1f3417bd77d"
   },
   "outputs": [
    {
     "data": {
      "text/plain": [
       "1.0"
      ]
     },
     "execution_count": 6,
     "metadata": {
      "tags": []
     },
     "output_type": "execute_result"
    }
   ],
   "source": [
    "3/3"
   ]
  },
  {
   "cell_type": "code",
   "execution_count": 7,
   "metadata": {
    "colab": {
     "base_uri": "https://localhost:8080/"
    },
    "executionInfo": {
     "elapsed": 744,
     "status": "ok",
     "timestamp": 1620868714938,
     "user": {
      "displayName": "강정현",
      "photoUrl": "",
      "userId": "18281289507624592209"
     },
     "user_tz": -540
    },
    "id": "szwq7PDyTb3V",
    "outputId": "aada8a17-d54b-4d49-e8d2-e88352a202bf"
   },
   "outputs": [
    {
     "data": {
      "text/plain": [
       "1.5"
      ]
     },
     "execution_count": 7,
     "metadata": {
      "tags": []
     },
     "output_type": "execute_result"
    }
   ],
   "source": [
    "3/2"
   ]
  },
  {
   "cell_type": "code",
   "execution_count": 8,
   "metadata": {
    "colab": {
     "base_uri": "https://localhost:8080/"
    },
    "executionInfo": {
     "elapsed": 585,
     "status": "ok",
     "timestamp": 1620868770780,
     "user": {
      "displayName": "강정현",
      "photoUrl": "",
      "userId": "18281289507624592209"
     },
     "user_tz": -540
    },
    "id": "FPmtWv4FTc6R",
    "outputId": "81fc463c-8e1b-484b-9828-e6aeb692eacb"
   },
   "outputs": [
    {
     "data": {
      "text/plain": [
       "str"
      ]
     },
     "execution_count": 8,
     "metadata": {
      "tags": []
     },
     "output_type": "execute_result"
    }
   ],
   "source": [
    "# type 확인\n",
    "type(\"string\")"
   ]
  },
  {
   "cell_type": "code",
   "execution_count": 9,
   "metadata": {
    "colab": {
     "base_uri": "https://localhost:8080/"
    },
    "executionInfo": {
     "elapsed": 601,
     "status": "ok",
     "timestamp": 1620868806990,
     "user": {
      "displayName": "강정현",
      "photoUrl": "",
      "userId": "18281289507624592209"
     },
     "user_tz": -540
    },
    "id": "6FUE_Tk0Tqle",
    "outputId": "c2b322cb-7a70-4e9a-8901-84c8cf6c5082"
   },
   "outputs": [
    {
     "data": {
      "text/plain": [
       "float"
      ]
     },
     "execution_count": 9,
     "metadata": {
      "tags": []
     },
     "output_type": "execute_result"
    }
   ],
   "source": [
    "type(3/3) # 나누기"
   ]
  },
  {
   "cell_type": "code",
   "execution_count": 12,
   "metadata": {
    "colab": {
     "base_uri": "https://localhost:8080/"
    },
    "executionInfo": {
     "elapsed": 680,
     "status": "ok",
     "timestamp": 1620869270662,
     "user": {
      "displayName": "강정현",
      "photoUrl": "",
      "userId": "18281289507624592209"
     },
     "user_tz": -540
    },
    "id": "02NF2a87TzbJ",
    "outputId": "a9247d7b-06e8-4399-b890-42e5b719ba0c"
   },
   "outputs": [
    {
     "data": {
      "text/plain": [
       "int"
      ]
     },
     "execution_count": 12,
     "metadata": {
      "tags": []
     },
     "output_type": "execute_result"
    }
   ],
   "source": [
    "type(2+3)"
   ]
  },
  {
   "cell_type": "code",
   "execution_count": 13,
   "metadata": {
    "colab": {
     "base_uri": "https://localhost:8080/"
    },
    "executionInfo": {
     "elapsed": 668,
     "status": "ok",
     "timestamp": 1620869287814,
     "user": {
      "displayName": "강정현",
      "photoUrl": "",
      "userId": "18281289507624592209"
     },
     "user_tz": -540
    },
    "id": "bQ-F77wKVkmE",
    "outputId": "62c4f0aa-f2ac-4c93-e268-4c2a112e64df"
   },
   "outputs": [
    {
     "data": {
      "text/plain": [
       "2"
      ]
     },
     "execution_count": 13,
     "metadata": {
      "tags": []
     },
     "output_type": "execute_result"
    }
   ],
   "source": [
    "# 나누고 난 나머지 -%\n",
    "5 % 3"
   ]
  },
  {
   "cell_type": "code",
   "execution_count": 11,
   "metadata": {
    "colab": {
     "base_uri": "https://localhost:8080/"
    },
    "executionInfo": {
     "elapsed": 596,
     "status": "ok",
     "timestamp": 1620869203140,
     "user": {
      "displayName": "강정현",
      "photoUrl": "",
      "userId": "18281289507624592209"
     },
     "user_tz": -540
    },
    "id": "KRrPQyeVT4cr",
    "outputId": "3587ac3d-7be2-497e-8bbe-6819ec8be0ee"
   },
   "outputs": [
    {
     "data": {
      "text/plain": [
       "1"
      ]
     },
     "execution_count": 11,
     "metadata": {
      "tags": []
     },
     "output_type": "execute_result"
    }
   ],
   "source": [
    "# 나누고 난 나머지를 제거하는 연산자\n",
    "5//3"
   ]
  },
  {
   "cell_type": "code",
   "execution_count": 14,
   "metadata": {
    "colab": {
     "base_uri": "https://localhost:8080/"
    },
    "executionInfo": {
     "elapsed": 580,
     "status": "ok",
     "timestamp": 1620869387358,
     "user": {
      "displayName": "강정현",
      "photoUrl": "",
      "userId": "18281289507624592209"
     },
     "user_tz": -540
    },
    "id": "FSoNk6Q4VUIp",
    "outputId": "50ac2cdd-6024-4287-e167-b5c394a9b8f0"
   },
   "outputs": [
    {
     "name": "stdout",
     "output_type": "stream",
     "text": [
      "2\n",
      "1\n"
     ]
    }
   ],
   "source": [
    "print(5%3)\n",
    "print(5//3)"
   ]
  },
  {
   "cell_type": "markdown",
   "metadata": {
    "id": "hnjGMRHDDVsr"
   },
   "source": [
    "2. 거듭제곱"
   ]
  },
  {
   "cell_type": "markdown",
   "metadata": {
    "id": "mie3pgTGDVsr"
   },
   "source": [
    "3. 과학적 표기법"
   ]
  },
  {
   "cell_type": "code",
   "execution_count": 15,
   "metadata": {
    "colab": {
     "base_uri": "https://localhost:8080/"
    },
    "executionInfo": {
     "elapsed": 602,
     "status": "ok",
     "timestamp": 1620869469052,
     "user": {
      "displayName": "강정현",
      "photoUrl": "",
      "userId": "18281289507624592209"
     },
     "user_tz": -540
    },
    "id": "94m6Ntt_DVsr",
    "outputId": "7d6b00c4-f494-4f89-c190-bb3e7a86a2df"
   },
   "outputs": [
    {
     "data": {
      "text/plain": [
       "300000000"
      ]
     },
     "execution_count": 15,
     "metadata": {
      "tags": []
     },
     "output_type": "execute_result"
    }
   ],
   "source": [
    "3 * 10 ** 8"
   ]
  },
  {
   "cell_type": "code",
   "execution_count": 16,
   "metadata": {
    "colab": {
     "base_uri": "https://localhost:8080/"
    },
    "executionInfo": {
     "elapsed": 645,
     "status": "ok",
     "timestamp": 1620869475766,
     "user": {
      "displayName": "강정현",
      "photoUrl": "",
      "userId": "18281289507624592209"
     },
     "user_tz": -540
    },
    "id": "PbnduBx2WVD6",
    "outputId": "d50412ac-d84d-4c49-d4c5-1ce6e2a2989e"
   },
   "outputs": [
    {
     "data": {
      "text/plain": [
       "300000000.0"
      ]
     },
     "execution_count": 16,
     "metadata": {
      "tags": []
     },
     "output_type": "execute_result"
    }
   ],
   "source": [
    "3e8"
   ]
  },
  {
   "cell_type": "code",
   "execution_count": null,
   "metadata": {
    "id": "uxas9PKgDVss"
   },
   "outputs": [],
   "source": []
  },
  {
   "cell_type": "markdown",
   "metadata": {
    "id": "6CWBFJQrDVss"
   },
   "source": [
    "4. 논리 연산과 비교 연산\n",
    "> 자바의 true/false 소문자 키워드 <br>\n",
    "> 파이썬 True/False 키워드"
   ]
  },
  {
   "cell_type": "code",
   "execution_count": 17,
   "metadata": {
    "colab": {
     "base_uri": "https://localhost:8080/"
    },
    "executionInfo": {
     "elapsed": 599,
     "status": "ok",
     "timestamp": 1620869603793,
     "user": {
      "displayName": "강정현",
      "photoUrl": "",
      "userId": "18281289507624592209"
     },
     "user_tz": -540
    },
    "id": "iwweufsyDVst",
    "outputId": "53387267-0413-46dc-c90c-65933e5ca6de"
   },
   "outputs": [
    {
     "name": "stdout",
     "output_type": "stream",
     "text": [
      "유재석\n"
     ]
    }
   ],
   "source": [
    "# = : 할당 연산자 / 대입 연산자\n",
    "name = '유재석'\n",
    "print(name)"
   ]
  },
  {
   "cell_type": "code",
   "execution_count": 19,
   "metadata": {
    "colab": {
     "base_uri": "https://localhost:8080/"
    },
    "executionInfo": {
     "elapsed": 574,
     "status": "ok",
     "timestamp": 1620869688104,
     "user": {
      "displayName": "강정현",
      "photoUrl": "",
      "userId": "18281289507624592209"
     },
     "user_tz": -540
    },
    "id": "y2KzdAEXW183",
    "outputId": "eccc916e-7c56-4d25-b27f-eb00c770d6e7"
   },
   "outputs": [
    {
     "name": "stdout",
     "output_type": "stream",
     "text": [
      "True\n"
     ]
    }
   ],
   "source": [
    "# == : 동등 비교 연산자 - 값이 동일할 경우 True\n",
    "# != 부정 연산자 - 값이 다를 경우에 True\n",
    "# 실행순서: 1==1 비교 -> print()\n",
    "print(1==1)"
   ]
  },
  {
   "cell_type": "code",
   "execution_count": 20,
   "metadata": {
    "colab": {
     "base_uri": "https://localhost:8080/"
    },
    "executionInfo": {
     "elapsed": 577,
     "status": "ok",
     "timestamp": 1620869699090,
     "user": {
      "displayName": "강정현",
      "photoUrl": "",
      "userId": "18281289507624592209"
     },
     "user_tz": -540
    },
    "id": "EnTlaJDhXKic",
    "outputId": "6a98974e-5a50-4b53-ac83-0ada3852111d"
   },
   "outputs": [
    {
     "name": "stdout",
     "output_type": "stream",
     "text": [
      "False\n"
     ]
    }
   ],
   "source": [
    "print(1 != 1)"
   ]
  },
  {
   "cell_type": "code",
   "execution_count": 21,
   "metadata": {
    "colab": {
     "base_uri": "https://localhost:8080/"
    },
    "executionInfo": {
     "elapsed": 577,
     "status": "ok",
     "timestamp": 1620869850100,
     "user": {
      "displayName": "강정현",
      "photoUrl": "",
      "userId": "18281289507624592209"
     },
     "user_tz": -540
    },
    "id": "DLxQdeukXNOk",
    "outputId": "f544aada-f69d-4a17-f5ef-95395689fae8"
   },
   "outputs": [
    {
     "name": "stdout",
     "output_type": "stream",
     "text": [
      "False\n"
     ]
    }
   ],
   "source": [
    "# 문자열 타입 비교\n",
    "print(\"a\" == \"A\")"
   ]
  },
  {
   "cell_type": "code",
   "execution_count": 22,
   "metadata": {
    "colab": {
     "base_uri": "https://localhost:8080/"
    },
    "executionInfo": {
     "elapsed": 587,
     "status": "ok",
     "timestamp": 1620869868071,
     "user": {
      "displayName": "강정현",
      "photoUrl": "",
      "userId": "18281289507624592209"
     },
     "user_tz": -540
    },
    "id": "khODwllCXyF9",
    "outputId": "95902e11-f42f-43b4-cd47-24957287df48"
   },
   "outputs": [
    {
     "name": "stdout",
     "output_type": "stream",
     "text": [
      "True\n"
     ]
    }
   ],
   "source": [
    "print(\"a\" == \"a\")"
   ]
  },
  {
   "cell_type": "code",
   "execution_count": null,
   "metadata": {},
   "outputs": [],
   "source": []
  }
 ],
 "metadata": {
  "colab": {
   "collapsed_sections": [],
   "name": "step01Calculation.ipynb",
   "provenance": []
  },
  "kernelspec": {
   "display_name": "Python 3",
   "language": "python",
   "name": "python3"
  },
  "language_info": {
   "codemirror_mode": {
    "name": "ipython",
    "version": 3
   },
   "file_extension": ".py",
   "mimetype": "text/x-python",
   "name": "python",
   "nbconvert_exporter": "python",
   "pygments_lexer": "ipython3",
   "version": "3.8.5"
  }
 },
 "nbformat": 4,
 "nbformat_minor": 1
}
