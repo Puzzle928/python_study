{
 "cells": [
  {
   "cell_type": "markdown",
   "metadata": {},
   "source": [
    "<!--NAVIGATION-->\n",
    "\n",
    "\n",
    "[[step11.Object Oriented Programming 학습 page로 이동](step11OOP.ipynb) ] | [[step13.Fiile IO 학습 page로 이동](step13FileIO.ipynb) ]"
   ]
  },
  {
   "cell_type": "markdown",
   "metadata": {},
   "source": [
    "### 모듈(묶음)이란?\n",
    "\n",
    "> 1. 함수나 변수들을 모아 놓은 library들 의미<br>\n",
    "&nbsp;&nbsp; 회사, 그룹, 모르는 누군가가 제공하는 외부 library들 사용하는 방법, 외부에 내 코드를 공유하는 방법<br>\n",
    "\n",
    "> 2. 모듈 사용 방법 <br>\n",
    "2-1. 모듈의 파일 확장자 : py <br>\n",
    "2-2. 모듈 사용 문법<br>\n",
    "  &nbsp;&nbsp;&nbsp; a. import file명 <br>\n",
    "  &nbsp;&nbsp;&nbsp; b. from file명 import 함수명<br>\n",
    "  &nbsp;&nbsp;&nbsp; c. import file명 as 별칭\n"
   ]
  },
  {
   "cell_type": "code",
   "execution_count": 1,
   "metadata": {
    "collapsed": true
   },
   "outputs": [
    {
     "name": "stdout",
     "output_type": "stream",
     "text": [
      " C 드라이브의 볼륨에는 이름이 없습니다.\n",
      " 볼륨 일련 번호: F4A3-6BC3\n",
      "\n",
      " C:\\202105_lab\\01.pythonBasic\\python_study 디렉터리\n",
      "\n",
      "2021-05-24  오후 02:28    <DIR>          .\n",
      "2021-05-24  오후 02:28    <DIR>          ..\n",
      "2021-05-24  오후 02:22    <DIR>          .ipynb_checkpoints\n",
      "2021-05-23  오전 08:27               120 lineInsertoutput.txt\n",
      "2021-05-23  오전 08:29               890 poem.txt\n",
      "2021-05-23  오전 08:30                44 sales.txt\n",
      "2021-05-13  오후 02:35             9,618 step01Calculation.ipynb\n",
      "2021-05-12  오후 04:51               889 step01_variable.py\n",
      "2021-05-17  오전 12:22            40,558 step02ConditionLoop.ipynb\n",
      "2021-05-12  오후 12:28             1,092 step02_sample.ipynb\n",
      "2021-05-20  오후 09:08            69,647 step03_1DataType.ipynb\n",
      "2021-05-18  오전 08:57           323,318 step03_2Slice.ipynb\n",
      "2021-05-20  오후 09:56            12,930 step04StringType.ipynb\n",
      "2021-05-18  오후 09:42            17,427 step05ListTupleDictSet.ipynb\n",
      "2021-05-21  오후 03:54             7,860 step06VariableOperators.ipynb\n",
      "2021-05-20  오후 07:25            32,829 step07Function.ipynb\n",
      "2021-05-24  오전 12:16            32,704 step08Comprehension.ipynb\n",
      "2021-05-23  오후 11:57           328,745 step09_1Exception.ipynb\n",
      "2021-05-21  오후 06:34             6,925 step09_2goodCode.ipynb\n",
      "2021-05-21  오후 06:34             5,295 step10 Class.ipynb\n",
      "2021-05-24  오전 10:22             5,281 step10_1Class.ipynb\n",
      "2021-05-24  오후 12:00            30,088 step10_2Class.ipynb\n",
      "2021-05-24  오후 02:20            36,090 step11OOP.ipynb\n",
      "2021-05-24  오후 02:28             3,287 step12Module.ipynb\n",
      "2021-05-23  오전 08:34             7,010 step13FileIO.ipynb\n",
      "2021-05-23  오전 08:51           268,175 step14RegExp.ipynb\n",
      "              23개 파일           1,240,822 바이트\n",
      "               3개 디렉터리  21,652,578,304 바이트 남음\n"
     ]
    }
   ],
   "source": [
    "# ! jupyter notebook 에서 명령프롬프트에서 알려주는 \n",
    "!dir"
   ]
  },
  {
   "cell_type": "code",
   "execution_count": 4,
   "metadata": {},
   "outputs": [
    {
     "name": "stdout",
     "output_type": "stream",
     "text": [
      "Writing fibo.py\n"
     ]
    }
   ],
   "source": [
    "%%writefile fibo.py\n",
    "\n",
    "\n",
    "def fib(n):\n",
    "    a, b = 0, 1\n",
    "    \n",
    "    while b<n:\n",
    "        print(b, end=' ')\n",
    "        a, b = b, a+b\n",
    "        "
   ]
  },
  {
   "cell_type": "code",
   "execution_count": 5,
   "metadata": {},
   "outputs": [
    {
     "name": "stdout",
     "output_type": "stream",
     "text": [
      "1 1 2 3 "
     ]
    }
   ],
   "source": [
    "import fibo # fibo.py이 파일 내용을 사용하겠다는 의미의 설정\n",
    "\n",
    "fibo.fib(5)\n"
   ]
  },
  {
   "cell_type": "code",
   "execution_count": 6,
   "metadata": {},
   "outputs": [
    {
     "name": "stdout",
     "output_type": "stream",
     "text": [
      "1 1 2 "
     ]
    }
   ],
   "source": [
    "import fibo as f# fibo.py이 파일 내용을 사용하겠다는 의미의 설정\n",
    "f.fib(3)"
   ]
  },
  {
   "cell_type": "code",
   "execution_count": 7,
   "metadata": {},
   "outputs": [
    {
     "name": "stdout",
     "output_type": "stream",
     "text": [
      "1 1 2 "
     ]
    }
   ],
   "source": [
    "from fibo import fib\n",
    "\n",
    "fib(3)"
   ]
  },
  {
   "cell_type": "markdown",
   "metadata": {},
   "source": [
    "python 명령어로 직접 프로그램 실행하는 방법\n",
    "\n",
    "도스창에선 >python file명.py"
   ]
  },
  {
   "cell_type": "code",
   "execution_count": null,
   "metadata": {},
   "outputs": [],
   "source": [
    "!python fibo.py"
   ]
  },
  {
   "cell_type": "code",
   "execution_count": null,
   "metadata": {},
   "outputs": [],
   "source": [
    "?"
   ]
  },
  {
   "cell_type": "code",
   "execution_count": 2,
   "metadata": {},
   "outputs": [
    {
     "name": "stdout",
     "output_type": "stream",
     "text": [
      "Writing mymath.py\n"
     ]
    }
   ],
   "source": [
    "# jupyter notebook에서 python 파일 생성하는 명령어\n",
    "%%writefile mymath.py\n",
    "\n",
    "\n",
    "\n",
    "\n",
    "mypi = 3.14\n",
    "def add(a,b):\n",
    "    return a+b\n",
    "\n",
    "def area(r):\n",
    "    return r*r*mypi"
   ]
  },
  {
   "cell_type": "code",
   "execution_count": 3,
   "metadata": {},
   "outputs": [
    {
     "name": "stdout",
     "output_type": "stream",
     "text": [
      " C 드라이브의 볼륨에는 이름이 없습니다.\n",
      " 볼륨 일련 번호: F4A3-6BC3\n",
      "\n",
      " C:\\202105_lab\\01.pythonBasic\\python_study 디렉터리\n",
      "\n",
      "2021-05-24  오후 02:29    <DIR>          .\n",
      "2021-05-24  오후 02:29    <DIR>          ..\n",
      "2021-05-24  오후 02:22    <DIR>          .ipynb_checkpoints\n",
      "2021-05-23  오전 08:27               120 lineInsertoutput.txt\n",
      "2021-05-24  오후 02:29               150 mymath.py\n",
      "2021-05-23  오전 08:29               890 poem.txt\n",
      "2021-05-23  오전 08:30                44 sales.txt\n",
      "2021-05-13  오후 02:35             9,618 step01Calculation.ipynb\n",
      "2021-05-12  오후 04:51               889 step01_variable.py\n",
      "2021-05-17  오전 12:22            40,558 step02ConditionLoop.ipynb\n",
      "2021-05-12  오후 12:28             1,092 step02_sample.ipynb\n",
      "2021-05-20  오후 09:08            69,647 step03_1DataType.ipynb\n",
      "2021-05-18  오전 08:57           323,318 step03_2Slice.ipynb\n",
      "2021-05-20  오후 09:56            12,930 step04StringType.ipynb\n",
      "2021-05-18  오후 09:42            17,427 step05ListTupleDictSet.ipynb\n",
      "2021-05-21  오후 03:54             7,860 step06VariableOperators.ipynb\n",
      "2021-05-20  오후 07:25            32,829 step07Function.ipynb\n",
      "2021-05-24  오전 12:16            32,704 step08Comprehension.ipynb\n",
      "2021-05-23  오후 11:57           328,745 step09_1Exception.ipynb\n",
      "2021-05-21  오후 06:34             6,925 step09_2goodCode.ipynb\n",
      "2021-05-21  오후 06:34             5,295 step10 Class.ipynb\n",
      "2021-05-24  오전 10:22             5,281 step10_1Class.ipynb\n",
      "2021-05-24  오후 12:00            30,088 step10_2Class.ipynb\n",
      "2021-05-24  오후 02:20            36,090 step11OOP.ipynb\n",
      "2021-05-24  오후 02:28             3,287 step12Module.ipynb\n",
      "2021-05-23  오전 08:34             7,010 step13FileIO.ipynb\n",
      "2021-05-23  오전 08:51           268,175 step14RegExp.ipynb\n",
      "              24개 파일           1,240,972 바이트\n",
      "               3개 디렉터리  21,652,566,016 바이트 남음\n"
     ]
    }
   ],
   "source": [
    "!dir"
   ]
  },
  {
   "cell_type": "markdown",
   "metadata": {},
   "source": [
    "**미션- mymath 모듈의 각 메소드 호출 및 출력해 보기**"
   ]
  },
  {
   "cell_type": "code",
   "execution_count": 11,
   "metadata": {},
   "outputs": [
    {
     "data": {
      "text/plain": [
       "7"
      ]
     },
     "execution_count": 11,
     "metadata": {},
     "output_type": "execute_result"
    }
   ],
   "source": [
    "import mymath\n",
    "mymath.add(3,4)\n"
   ]
  },
  {
   "cell_type": "code",
   "execution_count": 9,
   "metadata": {},
   "outputs": [
    {
     "name": "stdout",
     "output_type": "stream",
     "text": [
      "1 1 2 "
     ]
    }
   ],
   "source": [
    "from fibo import fib\n",
    "fib(3)"
   ]
  },
  {
   "cell_type": "code",
   "execution_count": 10,
   "metadata": {},
   "outputs": [
    {
     "name": "stdout",
     "output_type": "stream",
     "text": [
      "1 1 2 "
     ]
    }
   ],
   "source": [
    "import fibo as f\n",
    "f.fib(3)"
   ]
  },
  {
   "cell_type": "code",
   "execution_count": null,
   "metadata": {},
   "outputs": [],
   "source": [
    "%%writefile prac"
   ]
  }
 ],
 "metadata": {
  "kernelspec": {
   "display_name": "Python 3",
   "language": "python",
   "name": "python3"
  },
  "language_info": {
   "codemirror_mode": {
    "name": "ipython",
    "version": 3
   },
   "file_extension": ".py",
   "mimetype": "text/x-python",
   "name": "python",
   "nbconvert_exporter": "python",
   "pygments_lexer": "ipython3",
   "version": "3.8.5"
  }
 },
 "nbformat": 4,
 "nbformat_minor": 2
}
